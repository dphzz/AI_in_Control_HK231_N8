{
 "cells": [
  {
   "cell_type": "code",
   "execution_count": 1,
   "metadata": {},
   "outputs": [],
   "source": [
    "import numpy as np"
   ]
  },
  {
   "cell_type": "markdown",
   "metadata": {},
   "source": [
    "**From the web**"
   ]
  },
  {
   "cell_type": "code",
   "execution_count": 16,
   "metadata": {},
   "outputs": [],
   "source": [
    "#import generated data\n",
    "data = np.load('X_array.npy').T\n",
    "# X = X.T[:,0] \n",
    "# X1 = X.T[:,0]\n",
    "N = data[:,0].size\n",
    "C = 50"
   ]
  },
  {
   "cell_type": "code",
   "execution_count": 13,
   "metadata": {},
   "outputs": [
    {
     "ename": "NameError",
     "evalue": "name 'X0_ext' is not defined",
     "output_type": "error",
     "traceback": [
      "\u001b[1;31m---------------------------------------------------------------------------\u001b[0m",
      "\u001b[1;31mNameError\u001b[0m                                 Traceback (most recent call last)",
      "Cell \u001b[1;32mIn[13], line 31\u001b[0m\n\u001b[0;32m     28\u001b[0m         g[i] \u001b[39m=\u001b[39m (cost(wp) \u001b[39m-\u001b[39m cost(wm))\u001b[39m/\u001b[39m(\u001b[39m2\u001b[39m\u001b[39m*\u001b[39meps)\n\u001b[0;32m     29\u001b[0m     \u001b[39mreturn\u001b[39;00m g \n\u001b[1;32m---> 31\u001b[0m w0 \u001b[39m=\u001b[39m np\u001b[39m.\u001b[39mrandom\u001b[39m.\u001b[39mrandn(X0_ext\u001b[39m.\u001b[39mshape[\u001b[39m0\u001b[39m], \u001b[39m1\u001b[39m) \n\u001b[0;32m     32\u001b[0m g1 \u001b[39m=\u001b[39m grad(w0)\n\u001b[0;32m     33\u001b[0m g2 \u001b[39m=\u001b[39m num_grad(w0)\n",
      "\u001b[1;31mNameError\u001b[0m: name 'X0_ext' is not defined"
     ]
    }
   ],
   "source": [
    "X0_bar = np.vstack((X0.T, np.ones((1, N)))) # extended data\n",
    "X1_bar = np.vstack((X1.T, np.ones((1, N)))) # extended data \n",
    "\n",
    "Z = np.hstack((X0_bar, - X1_bar)) # as in (22)\n",
    "lam = 1./C\n",
    "\n",
    "def cost(w):\n",
    "    u = w.T.dot(Z) # as in (23)\n",
    "    return (np.sum(np.maximum(0, 1 - u)) + \\\n",
    "        .5*lam*np.sum(w*w)) - .5*lam*w[-1]*w[-1] # no bias \n",
    "\n",
    "def grad(w):\n",
    "    u = w.T.dot(Z) # as in (23)\n",
    "    H = np.where(u < 1)[1]\n",
    "    ZS = Z[:, H]\n",
    "    g = (-np.sum(ZS, axis = 1, keepdims = True) + lam*w)\n",
    "    g[-1] -= lam*w[-1] # no weight decay on bias\n",
    "    return g\n",
    "\n",
    "eps = 1e-6\n",
    "def num_grad(w):\n",
    "    g = np.zeros_like(w)\n",
    "    for i in xrange(len(w)):\n",
    "        wp = w.copy()\n",
    "        wm = w.copy()\n",
    "        wp[i] += eps \n",
    "        wm[i] -= eps \n",
    "        g[i] = (cost(wp) - cost(wm))/(2*eps)\n",
    "    return g \n",
    "\n",
    "w0 = np.random.randn(X0_ext.shape[0], 1) \n",
    "g1 = grad(w0)\n",
    "g2 = num_grad(w0)\n",
    "diff = np.linalg.norm(g1 - g2)\n",
    "print('Gradient different: %f' %diff)"
   ]
  },
  {
   "cell_type": "code",
   "execution_count": null,
   "metadata": {},
   "outputs": [],
   "source": [
    "def grad_descent(w0, eta):\n",
    "    w = w0\n",
    "    it = 0 \n",
    "    while it < 100000:\n",
    "        it = it + 1\n",
    "        g = grad(w)\n",
    "        w -= eta*g\n",
    "        if (it % 10000) == 1:\n",
    "            print('iter %d' %it + ' cost: %f' %cost(w))\n",
    "        if np.linalg.norm(g) < 1e-5:\n",
    "            break \n",
    "    return w \n",
    "w0 = np.random.randn(X0_ext.shape[0], 1) \n",
    "w = grad_descent(w0, 0.001)\n",
    "w_hinge = w[:-1].reshape(-1, 1)\n",
    "b_hinge = w[-1]\n",
    "print(w_hinge.T, b_hinge)"
   ]
  },
  {
   "cell_type": "markdown",
   "metadata": {},
   "source": [
    "**My own algorithm**"
   ]
  },
  {
   "cell_type": "code",
   "execution_count": 241,
   "metadata": {},
   "outputs": [],
   "source": [
    "#Initialize parameters and functions\n",
    "import numpy as np\n",
    "import matplotlib.pyplot as plt\n",
    "\n",
    "\n",
    "data = np.load('data.npy')\n",
    "C = 50\n",
    "learning_rate = 0.1\n",
    "stopping_error = 1e-5\n",
    "number_of_axis = data[0, :].size;\n",
    "number_of_samples = data[:,0].size;\n",
    "\n",
    "def plot_data(w0, b0, data):\n",
    "    plt.figure() #Create a figure to plot multiple lines\n",
    "    plt.grid()\n",
    "    color = [\"blue\", \"red\"]\n",
    "    for i in range(0, number_of_samples):\n",
    "        if (data[i, number_of_axis - 1] > 0):\n",
    "            try:\n",
    "                color[i] = 'blue'\n",
    "            except Exception as e:\n",
    "                color.append('blue')\n",
    "        else:\n",
    "            try:\n",
    "                color[i] = 'red'\n",
    "            except Exception as e:\n",
    "                color.append('red')\n",
    "    plt.scatter(data[:,0], data[:,1], c = color )\n",
    "\n",
    "    #Plot the center line\n",
    "    line_points = np.zeros([100, 2])\n",
    "    line_points[:, 0] = np.linspace(-1, 1, 100)\n",
    "    line_points[:, 1] = -(w0[0] / w0[1])*line_points[:, 0] - b0\n",
    "    plt.plot(line_points[:, 0], line_points[:, 1], label=\"Line with Normal Vector and Offset\")\n",
    "\n",
    "    #Plot the margin lines\n",
    "    x_unit_vector = np.array([0, 1]);\n",
    "    offset = abs((np.dot(w0, x_unit_vector)) / np.dot(w0, w0))\n",
    "\n",
    "    margin_points_0 = np.zeros([100, 2])\n",
    "    margin_points_0[:, 0] = np.linspace(-1, 1, 100)\n",
    "    margin_points_0[:, 1] = -(w0[0] / w0[1])*margin_points_0[:, 0] - b0 - offset\n",
    "    plt.plot(margin_points_0[:, 0], margin_points_0[:, 1], linestyle = '--')\n",
    "\n",
    "    margin_points_1 = np.zeros([100, 2])\n",
    "    margin_points_1[:, 0] = np.linspace(-1, 1, 100)\n",
    "    margin_points_1[:, 1] = -(w0[0] / w0[1])*margin_points_1[:, 0] - b0 + offset\n",
    "    plt.plot(margin_points_1[:, 0], margin_points_1[:, 1], linestyle = '--')\n",
    "\n",
    "\n",
    "\n",
    "def support_vectors(w0, b0, data):\n",
    "    error_set = np.zeros((0, number_of_axis)); #This is for it to work for all size of the data\n",
    "    for i in range(0, number_of_samples - 1):\n",
    "        xn = np.zeros((number_of_axis,1))\n",
    "        xn = data[i, 0:number_of_axis-1].T  #Extract the vector and transpose the matrix\n",
    "        dot_product = np.dot(w0, xn);\n",
    "        if ((1 - data[i, number_of_axis - 1]*(dot_product + b0)) > 0):\n",
    "            temp_xn = np.copy(data[i, 0:number_of_axis].T)\n",
    "            temp_xn.resize((1,number_of_axis))\n",
    "            error_set = np.append(error_set, temp_xn, axis = 0)\n",
    "    return error_set\n",
    "\n",
    "def gradient_w(w0, b0, data):\n",
    "    error_set = support_vectors(w0, b0, data)\n",
    "    grad_w = np.zeros((1, number_of_axis - 1));\n",
    "    for i in range(0, error_set[:, 0].size - 1):\n",
    "        grad_w += -(error_set[i, number_of_axis - 1] * error_set[i, 0:number_of_axis - 1])\n",
    "    grad_w += (1/C) * w0\n",
    "    return grad_w\n",
    "\n",
    "def gradient_b(w0, b0, data):\n",
    "    error_set = support_vectors(w0, b0, data)\n",
    "    grad_b = 0;\n",
    "    for i in range(0, error_set[:, 0].size - 1):\n",
    "        grad_b += -error_set[i, number_of_axis - 1];\n",
    "    grad_b += (1/C) * b0\n",
    "    return grad_b\n",
    "    \n",
    "def cost_function(w0, b0, data):\n",
    "    error_set = support_vectors(w0, b0, data)\n",
    "    total_cost = 0;\n",
    "    for i in range(0, error_set[:, 0].size - 1):\n",
    "        total_cost += 1 - (error_set[i, number_of_axis - 1] * (np.dot(w0, error_set[i, 0:(number_of_axis - 1)])) + b0)\n",
    "    total_cost += (1/(2*C)) * np.dot(w0, w0)\n",
    "    return total_cost\n",
    "\n",
    "def gradient_descent(w0, b0, data):\n",
    "    w = w0\n",
    "    b = b0\n",
    "    iteration = 0\n",
    "    for interation in range(0, 10000):\n",
    "        w = w - learning_rate * gradient_w(w, b, data)\n",
    "        b = b - learning_rate * gradient_b(w, b, data)\n",
    "        if (cost_function(w, b, data) < stopping_error):\n",
    "            break;            \n",
    "    return w, b\n",
    "\n"
   ]
  },
  {
   "cell_type": "code",
   "execution_count": 46,
   "metadata": {},
   "outputs": [
    {
     "name": "stdout",
     "output_type": "stream",
     "text": [
      "3\n"
     ]
    },
    {
     "data": {
      "image/png": "[encoded data removed]",
      "text/plain": [
       "<Figure size 640x480 with 1 Axes>"
      ]
     },
     "metadata": {},
     "output_type": "display_data"
    }
   ],
   "source": [
    "plot_data(data)\n"
   ]
  },
  {
   "cell_type": "markdown",
   "metadata": {},
   "source": [
    "**Looking for the correct way to append value to a numpy array**"
   ]
  },
  {
   "cell_type": "code",
   "execution_count": 136,
   "metadata": {},
   "outputs": [
    {
     "name": "stdout",
     "output_type": "stream",
     "text": [
      "[2.05084632 2.00111793 1.        ]\n"
     ]
    }
   ],
   "source": [
    "xn = data[0, 0:number_of_axis].T\n",
    "print(xn)"
   ]
  },
  {
   "cell_type": "code",
   "execution_count": 135,
   "metadata": {},
   "outputs": [
    {
     "name": "stdout",
     "output_type": "stream",
     "text": [
      "(3,)\n",
      "(1, 3)\n"
     ]
    }
   ],
   "source": [
    "error_set = np.zeros((0, number_of_axis))\n",
    "temp_xn = np.copy(xn)\n",
    "temp_xn.resize((1,3))\n",
    "error_set = np.append(error_set, temp_xn, axis = 0)\n",
    "print(xn.shape)\n",
    "print(error_set.shape)"
   ]
  },
  {
   "cell_type": "markdown",
   "metadata": {},
   "source": [
    "**Testing the support vector function**"
   ]
  },
  {
   "cell_type": "code",
   "execution_count": 181,
   "metadata": {},
   "outputs": [
    {
     "name": "stderr",
     "output_type": "stream",
     "text": [
      "No artists with labels found to put in legend.  Note that artists whose label start with an underscore are ignored when legend() is called with no argument.\n"
     ]
    },
    {
     "name": "stdout",
     "output_type": "stream",
     "text": [
      "[1 2]\n",
      "dot product: 6.0530821815161\n",
      "[[ 4.75215781  1.30969881 -1.        ]\n",
      " [ 4.67253811  0.78518512 -1.        ]\n",
      " [ 4.68638834  1.79005378 -1.        ]\n",
      " [ 3.48737994  0.86846079 -1.        ]\n",
      " [ 4.07611593  1.38790279 -1.        ]\n",
      " [ 2.95252573  0.47959209 -1.        ]\n",
      " [ 5.08269415  1.30126272 -1.        ]\n",
      " [ 3.52036329  1.07691292 -1.        ]\n",
      " [ 3.79891756  1.22491879 -1.        ]]\n"
     ]
    },
    {
     "data": {
      "text/plain": [
       "[<matplotlib.lines.Line2D at 0x1db07eccd90>]"
      ]
     },
     "execution_count": 181,
     "metadata": {},
     "output_type": "execute_result"
    },
    {
     "data": {
      "image/png": "[encoded data removed]",
      "text/plain": [
       "<Figure size 640x480 with 1 Axes>"
      ]
     },
     "metadata": {},
     "output_type": "display_data"
    }
   ],
   "source": [
    "w0 = np.array([(1),(2)])\n",
    "b0 = 1\n",
    "xn =  np.copy(data[0, 0:2])\n",
    "print(w0)\n",
    "print(f\"dot product: {np.dot(xn,w0)}\")\n",
    "\n",
    "print(support_vectors(w0, b0, data))\n",
    "\n",
    "\n",
    "#Plotting the function with w0 and b and data\n",
    "plt.figure()\n",
    "plt.xlabel(\"X axis\")\n",
    "plt.ylabel(\"Y axis\")\n",
    "plt.legend()\n",
    "plot_data(data)\n",
    "\n",
    "normal_vector = w0.T\n",
    "point_on_line = np.array([0, -b0])\n",
    "t = np.linspace(-1, 1, 100)\n",
    "line_points = np.zeros([100,2]);\n",
    "for i in range(0, t.size):\n",
    "    line_points[i, 0] = t[i]\n",
    "    line_points[i,1] = -(normal_vector[0] / normal_vector[1])*t[i] - b0\n",
    "\n",
    "plt.plot(line_points[:, 0], line_points[:, 1], label=\"Line with Normal Vector and Offset\")"
   ]
  },
  {
   "cell_type": "markdown",
   "metadata": {},
   "source": [
    "**Multiple plot on the same figure**"
   ]
  },
  {
   "cell_type": "code",
   "execution_count": 169,
   "metadata": {},
   "outputs": [
    {
     "data": {
      "image/png": "[encoded data removed]",
      "text/plain": [
       "<Figure size 800x600 with 1 Axes>"
      ]
     },
     "metadata": {},
     "output_type": "display_data"
    }
   ],
   "source": [
    "# Sample data for plotting\n",
    "x = np.linspace(0, 10, 100)\n",
    "y1 = np.sin(x)\n",
    "y2 = np.cos(x)\n",
    "y3 = x**2\n",
    "\n",
    "# Create a new figure and axis\n",
    "plt.figure(figsize=(8, 6))\n",
    "\n",
    "# Plot the first curve (sin(x))\n",
    "plt.plot(x, y1, label='sin(x)', color='blue', linestyle='-')\n",
    "\n",
    "# Plot the second curve (cos(x))\n",
    "plt.plot(x, y2, label='cos(x)', color='red', linestyle='--')\n",
    "\n",
    "# Plot the third curve (x^2)\n",
    "plt.plot(x, y3, label='x^2', color='green', linestyle=':')\n",
    "\n",
    "# Add labels, title, and legend\n",
    "plt.xlabel('X-axis')\n",
    "plt.ylabel('Y-axis')\n",
    "plt.title('Multiple Plots on the Same Figure')\n",
    "plt.legend()\n",
    "\n",
    "# Show the plot\n",
    "plt.grid(True)\n",
    "plt.show()"
   ]
  },
  {
   "cell_type": "code",
   "execution_count": 215,
   "metadata": {},
   "outputs": [
    {
     "data": {
      "image/png": "[encoded data removed]",
      "text/plain": [
       "<Figure size 640x480 with 1 Axes>"
      ]
     },
     "metadata": {},
     "output_type": "display_data"
    }
   ],
   "source": [
    "plot_data((1,5), 0, data)"
   ]
  },
  {
   "cell_type": "markdown",
   "metadata": {},
   "source": [
    "**Test gradient_w function**"
   ]
  },
  {
   "cell_type": "code",
   "execution_count": 218,
   "metadata": {},
   "outputs": [],
   "source": [
    "error_set = support_vectors(w0, b0, data)\n",
    "grad_w = np.zeros((1, number_of_axis - 1))\n",
    "for i in range(0, error_set[:, 0].size - 1):\n",
    "    grad_w += -(error_set[i, number_of_axis - 1] * error_set[i, 0:number_of_axis - 1])\n",
    "grad_w += (1/C) * w0"
   ]
  },
  {
   "cell_type": "code",
   "execution_count": 217,
   "metadata": {},
   "outputs": [
    {
     "data": {
      "text/plain": [
       "27"
      ]
     },
     "execution_count": 217,
     "metadata": {},
     "output_type": "execute_result"
    }
   ],
   "source": [
    "error_set.size"
   ]
  },
  {
   "cell_type": "markdown",
   "metadata": {},
   "source": [
    "**Test gradient_b function**"
   ]
  },
  {
   "cell_type": "code",
   "execution_count": 221,
   "metadata": {},
   "outputs": [],
   "source": [
    "error_set = support_vectors(w0, b0, data)\n",
    "grad_b = 0;\n",
    "for i in range(0, error_set[:, 0].size - 1):\n",
    "    grad_b += -error_set[i, number_of_axis - 1];\n",
    "grad_b += (1/C) * b0"
   ]
  },
  {
   "cell_type": "code",
   "execution_count": 222,
   "metadata": {},
   "outputs": [
    {
     "name": "stdout",
     "output_type": "stream",
     "text": [
      "8.02\n"
     ]
    }
   ],
   "source": [
    "print(grad_b)"
   ]
  },
  {
   "cell_type": "markdown",
   "metadata": {},
   "source": [
    "**Test cost function**"
   ]
  },
  {
   "cell_type": "code",
   "execution_count": 234,
   "metadata": {},
   "outputs": [
    {
     "name": "stdout",
     "output_type": "stream",
     "text": [
      "51.27830132044304\n"
     ]
    }
   ],
   "source": [
    "error_set = support_vectors(w0, b0, data)\n",
    "total_cost = 0;\n",
    "for i in range(0, error_set[:, 0].size - 1):\n",
    "    total_cost += 1 - (error_set[i, number_of_axis - 1] * (np.dot(w0, error_set[i, 0:(number_of_axis - 1)])) + b0)\n",
    "total_cost += (1/(2*C)) * np.dot(w0, w0)\n",
    "print(total_cost)"
   ]
  },
  {
   "cell_type": "markdown",
   "metadata": {},
   "source": [
    "**Testing gradient descent function**"
   ]
  },
  {
   "cell_type": "code",
   "execution_count": 242,
   "metadata": {},
   "outputs": [
    {
     "ename": "ValueError",
     "evalue": "shapes (1,2) and (1,2) not aligned: 2 (dim 1) != 1 (dim 0)",
     "output_type": "error",
     "traceback": [
      "\u001b[1;31m---------------------------------------------------------------------------\u001b[0m",
      "\u001b[1;31mValueError\u001b[0m                                Traceback (most recent call last)",
      "Cell \u001b[1;32mIn[242], line 7\u001b[0m\n\u001b[0;32m      5\u001b[0m w \u001b[39m=\u001b[39m w \u001b[39m-\u001b[39m learning_rate \u001b[39m*\u001b[39m gradient_w(w, b, data)\n\u001b[0;32m      6\u001b[0m b \u001b[39m=\u001b[39m b \u001b[39m-\u001b[39m learning_rate \u001b[39m*\u001b[39m gradient_b(w, b, data)    \n\u001b[1;32m----> 7\u001b[0m \u001b[39mif\u001b[39;00m (cost_function(w, b, data) \u001b[39m<\u001b[39m stopping_error):\n\u001b[0;32m      8\u001b[0m     \u001b[39mbreak\u001b[39;00m; \n",
      "Cell \u001b[1;32mIn[241], line 85\u001b[0m, in \u001b[0;36mcost_function\u001b[1;34m(w0, b0, data)\u001b[0m\n\u001b[0;32m     83\u001b[0m \u001b[39mfor\u001b[39;00m i \u001b[39min\u001b[39;00m \u001b[39mrange\u001b[39m(\u001b[39m0\u001b[39m, error_set[:, \u001b[39m0\u001b[39m]\u001b[39m.\u001b[39msize \u001b[39m-\u001b[39m \u001b[39m1\u001b[39m):\n\u001b[0;32m     84\u001b[0m     total_cost \u001b[39m+\u001b[39m\u001b[39m=\u001b[39m \u001b[39m1\u001b[39m \u001b[39m-\u001b[39m (error_set[i, number_of_axis \u001b[39m-\u001b[39m \u001b[39m1\u001b[39m] \u001b[39m*\u001b[39m (np\u001b[39m.\u001b[39mdot(w0, error_set[i, \u001b[39m0\u001b[39m:(number_of_axis \u001b[39m-\u001b[39m \u001b[39m1\u001b[39m)])) \u001b[39m+\u001b[39m b0)\n\u001b[1;32m---> 85\u001b[0m total_cost \u001b[39m+\u001b[39m\u001b[39m=\u001b[39m (\u001b[39m1\u001b[39m\u001b[39m/\u001b[39m(\u001b[39m2\u001b[39m\u001b[39m*\u001b[39mC)) \u001b[39m*\u001b[39m np\u001b[39m.\u001b[39;49mdot(w0, w0)\n\u001b[0;32m     86\u001b[0m \u001b[39mreturn\u001b[39;00m total_cost\n",
      "File \u001b[1;32m<__array_function__ internals>:200\u001b[0m, in \u001b[0;36mdot\u001b[1;34m(*args, **kwargs)\u001b[0m\n",
      "\u001b[1;31mValueError\u001b[0m: shapes (1,2) and (1,2) not aligned: 2 (dim 1) != 1 (dim 0)"
     ]
    }
   ],
   "source": [
    "w = np.copy(w0)\n",
    "b = b0\n",
    "iteration = 0\n",
    "for interation in range(0, 10000):\n",
    "    w = w - learning_rate * gradient_w(w, b, data)\n",
    "    b = b - learning_rate * gradient_b(w, b, data)    \n",
    "    if (cost_function(w, b, data) < stopping_error):\n",
    "        break; "
   ]
  }
 ],
 "metadata": {
  "kernelspec": {
   "display_name": "AI_in_control",
   "language": "python",
   "name": "python3"
  },
  "language_info": {
   "codemirror_mode": {
    "name": "ipython",
    "version": 3
   },
   "file_extension": ".py",
   "mimetype": "text/x-python",
   "name": "python",
   "nbconvert_exporter": "python",
   "pygments_lexer": "ipython3",
   "version": "3.11.3"
  },
  "orig_nbformat": 4
 },
 "nbformat": 4,
 "nbformat_minor": 2
}

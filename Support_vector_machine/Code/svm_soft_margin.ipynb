{
 "cells": [
  {
   "cell_type": "code",
   "execution_count": 1,
   "metadata": {},
   "outputs": [],
   "source": [
    "import numpy as np"
   ]
  },
  {
   "cell_type": "markdown",
   "metadata": {},
   "source": [
    "**From the web**"
   ]
  },
  {
   "cell_type": "code",
   "execution_count": 16,
   "metadata": {},
   "outputs": [],
   "source": [
    "#import generated data\n",
    "data = np.load('X_array.npy').T\n",
    "# X = X.T[:,0] \n",
    "# X1 = X.T[:,0]\n",
    "N = data[:,0].size\n",
    "C = 50"
   ]
  },
  {
   "cell_type": "code",
   "execution_count": 13,
   "metadata": {},
   "outputs": [
    {
     "ename": "NameError",
     "evalue": "name 'X0_ext' is not defined",
     "output_type": "error",
     "traceback": [
      "\u001b[1;31m---------------------------------------------------------------------------\u001b[0m",
      "\u001b[1;31mNameError\u001b[0m                                 Traceback (most recent call last)",
      "Cell \u001b[1;32mIn[13], line 31\u001b[0m\n\u001b[0;32m     28\u001b[0m         g[i] \u001b[39m=\u001b[39m (cost(wp) \u001b[39m-\u001b[39m cost(wm))\u001b[39m/\u001b[39m(\u001b[39m2\u001b[39m\u001b[39m*\u001b[39meps)\n\u001b[0;32m     29\u001b[0m     \u001b[39mreturn\u001b[39;00m g \n\u001b[1;32m---> 31\u001b[0m w0 \u001b[39m=\u001b[39m np\u001b[39m.\u001b[39mrandom\u001b[39m.\u001b[39mrandn(X0_ext\u001b[39m.\u001b[39mshape[\u001b[39m0\u001b[39m], \u001b[39m1\u001b[39m) \n\u001b[0;32m     32\u001b[0m g1 \u001b[39m=\u001b[39m grad(w0)\n\u001b[0;32m     33\u001b[0m g2 \u001b[39m=\u001b[39m num_grad(w0)\n",
      "\u001b[1;31mNameError\u001b[0m: name 'X0_ext' is not defined"
     ]
    }
   ],
   "source": [
    "X0_bar = np.vstack((X0.T, np.ones((1, N)))) # extended data\n",
    "X1_bar = np.vstack((X1.T, np.ones((1, N)))) # extended data \n",
    "\n",
    "Z = np.hstack((X0_bar, - X1_bar)) # as in (22)\n",
    "lam = 1./C\n",
    "\n",
    "def cost(w):\n",
    "    u = w.T.dot(Z) # as in (23)\n",
    "    return (np.sum(np.maximum(0, 1 - u)) + \\\n",
    "        .5*lam*np.sum(w*w)) - .5*lam*w[-1]*w[-1] # no bias \n",
    "\n",
    "def grad(w):\n",
    "    u = w.T.dot(Z) # as in (23)\n",
    "    H = np.where(u < 1)[1]\n",
    "    ZS = Z[:, H]\n",
    "    g = (-np.sum(ZS, axis = 1, keepdims = True) + lam*w)\n",
    "    g[-1] -= lam*w[-1] # no weight decay on bias\n",
    "    return g\n",
    "\n",
    "eps = 1e-6\n",
    "def num_grad(w):\n",
    "    g = np.zeros_like(w)\n",
    "    for i in xrange(len(w)):\n",
    "        wp = w.copy()\n",
    "        wm = w.copy()\n",
    "        wp[i] += eps \n",
    "        wm[i] -= eps \n",
    "        g[i] = (cost(wp) - cost(wm))/(2*eps)\n",
    "    return g \n",
    "\n",
    "w0 = np.random.randn(X0_ext.shape[0], 1) \n",
    "g1 = grad(w0)\n",
    "g2 = num_grad(w0)\n",
    "diff = np.linalg.norm(g1 - g2)\n",
    "print('Gradient different: %f' %diff)"
   ]
  },
  {
   "cell_type": "code",
   "execution_count": null,
   "metadata": {},
   "outputs": [],
   "source": [
    "def grad_descent(w0, eta):\n",
    "    w = w0\n",
    "    it = 0 \n",
    "    while it < 100000:\n",
    "        it = it + 1\n",
    "        g = grad(w)\n",
    "        w -= eta*g\n",
    "        if (it % 10000) == 1:\n",
    "            print('iter %d' %it + ' cost: %f' %cost(w))\n",
    "        if np.linalg.norm(g) < 1e-5:\n",
    "            break \n",
    "    return w \n",
    "w0 = np.random.randn(X0_ext.shape[0], 1) \n",
    "w = grad_descent(w0, 0.001)\n",
    "w_hinge = w[:-1].reshape(-1, 1)\n",
    "b_hinge = w[-1]\n",
    "print(w_hinge.T, b_hinge)"
   ]
  },
  {
   "cell_type": "markdown",
   "metadata": {},
   "source": [
    "**My own algorithm**"
   ]
  },
  {
   "cell_type": "code",
   "execution_count": 8,
   "metadata": {},
   "outputs": [],
   "source": [
    "#Initialize parameters and functions\n",
    "import numpy as np\n",
    "import matplotlib.pyplot as plt\n",
    "\n",
    "\n",
    "data = np.load('data.npy')\n",
    "C = 50\n",
    "learning_rate = 0.1\n",
    "stopping_error = 1e-5\n",
    "number_of_axis = data[0, :].size - 1;\n",
    "number_of_samples = data[:,0].size;\n",
    "\n",
    "def plot_data(data):\n",
    "    color = [\"blue\", \"red\"]\n",
    "    for i in range(0, number_of_samples):\n",
    "        if (data[i, number_of_axis] > 0):\n",
    "            try:\n",
    "                color[i] = 'blue'\n",
    "            except Exception as e:\n",
    "                color.append('blue')\n",
    "        else:\n",
    "            try:\n",
    "                color[i] = 'red'\n",
    "            except Exception as e:\n",
    "                color.append('red')\n",
    "    plt.scatter(data[:,0], data[:,1], c = color )\n",
    "\n",
    "\n",
    "def support_vectors(w0, b0, data):\n",
    "    error_set = np.zeros((number_of_samples, number_of_axis)); #This is for it to work for all size of the data\n",
    "    for i in range(0, number_of_samples - 1):\n",
    "        xn = np.zeros((number_of_axis,1))\n",
    "        xn = data[i, 0:number_of_axis].T  #Extract the vector and transpose the matrix\n",
    "        dot_product = np.dot(w0, xn);\n",
    "        if ((1 - data[i, number_of_axis]*(dot_product + b0)) > 0):\n",
    "            error_set.append(xn);\n",
    "\n",
    "\n",
    "def gradient_w(w0, data):\n",
    "    return 0\n",
    "\n",
    "def gradient_b(b0):\n",
    "    return 0\n",
    "\n",
    "\n",
    "def gradient_descent(w0, b0, data):\n",
    "    w = w0\n",
    "    b = b0\n",
    "    iteration = 0\n",
    "    for interation in range(0, 10000):\n",
    "        break;\n",
    "    return 0\n",
    "\n"
   ]
  },
  {
   "cell_type": "code",
   "execution_count": 46,
   "metadata": {},
   "outputs": [
    {
     "name": "stdout",
     "output_type": "stream",
     "text": [
      "3\n"
     ]
    },
    {
     "data": {
      "image/png": "[encoded data removed]",
      "text/plain": [
       "<Figure size 640x480 with 1 Axes>"
      ]
     },
     "metadata": {},
     "output_type": "display_data"
    }
   ],
   "source": [
    "plot_data(data)\n"
   ]
  },
  {
   "cell_type": "code",
   "execution_count": 82,
   "metadata": {},
   "outputs": [
    {
     "name": "stdout",
     "output_type": "stream",
     "text": [
      "[2.05084632 2.00111793]\n"
     ]
    }
   ],
   "source": [
    "xn = data[0, 0:number_of_axis].T\n",
    "print(xn)"
   ]
  },
  {
   "cell_type": "code",
   "execution_count": 121,
   "metadata": {},
   "outputs": [
    {
     "name": "stdout",
     "output_type": "stream",
     "text": [
      "(2,)\n",
      "(1, 2)\n"
     ]
    }
   ],
   "source": [
    "error_set = np.zeros((0, number_of_axis))\n",
    "temp_xn = np.copy(xn)\n",
    "temp_xn.resize((1,2))\n",
    "error_set = np.append(error_set, temp_xn, axis = 0)\n",
    "print(xn.shape)\n",
    "print(error_set.shape)"
   ]
  }
 ],
 "metadata": {
  "kernelspec": {
   "display_name": "AI_in_control",
   "language": "python",
   "name": "python3"
  },
  "language_info": {
   "codemirror_mode": {
    "name": "ipython",
    "version": 3
   },
   "file_extension": ".py",
   "mimetype": "text/x-python",
   "name": "python",
   "nbconvert_exporter": "python",
   "pygments_lexer": "ipython3",
   "version": "3.11.3"
  },
  "orig_nbformat": 4
 },
 "nbformat": 4,
 "nbformat_minor": 2
}
